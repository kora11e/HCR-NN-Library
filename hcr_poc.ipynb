{
  "nbformat": 4,
  "nbformat_minor": 0,
  "metadata": {
    "colab": {
      "provenance": []
    },
    "kernelspec": {
      "name": "python3",
      "display_name": "Python 3"
    },
    "language_info": {
      "name": "python"
    }
  },
  "cells": [
    {
      "cell_type": "code",
      "execution_count": 507,
      "metadata": {
        "id": "Qi4tyTBPGYbI"
      },
      "outputs": [],
      "source": [
        "import numpy as np, matplotlib.pyplot as plt\n",
        "np.random.seed(0)\n",
        "\n",
        "deg = 5 # po testach wyszło mi najmniejsze mse ale i tak nie zadowalające\n",
        "\n",
        "def legendre(u, deg=1):\n",
        "    \"\"\"\n",
        "    Ortonormalne (na [0,1]) wielomiany Legendre’a przesunięte (shifted),\n",
        "    ze współczynnikiem  √(2n+1).  Zwraca tablicę kształtu (..., deg+1),\n",
        "    gdzie kolumna 0 to f₀(u)=1, kol. 1 to f₁(u) itd.\n",
        "    \"\"\"\n",
        "    out = [np.ones_like(u)]                         # f0\n",
        "    if deg >= 1:  # f1\n",
        "        out.append(np.sqrt(3)*(2*u - 1))\n",
        "    if deg >= 2:  # f2\n",
        "        out.append(np.sqrt(5)*(6*u**2 - 6*u + 1))\n",
        "    if deg >= 3:  # f3\n",
        "        out.append(np.sqrt(7)*(20*u**3 - 30*u**2 + 12*u - 1))\n",
        "    if deg >= 4:  # f4\n",
        "        out.append(np.sqrt(9)*(70*u**4 - 140*u**3 + 90*u**2 - 20*u + 1))\n",
        "    if deg >= 5:  # f5\n",
        "        out.append(np.sqrt(11)*(252*u**5 - 630*u**4 + 560*u**3\n",
        "                                - 210*u**2 + 30*u - 1))\n",
        "    if deg >= 6:  # f6\n",
        "        out.append(np.sqrt(13)*(924*u**6 - 2772*u**5 + 3150*u**4\n",
        "                                - 1680*u**3 + 420*u**2 - 42*u + 1))\n",
        "    return np.stack(out, axis=-1)\n",
        "\n",
        "\n",
        "def quantile_norm(x):\n",
        "    # Empiryczna CDF → (0,1)\n",
        "    ranks = x.argsort().argsort() + 1\n",
        "    return ranks / (len(x) + 1)"
      ]
    },
    {
      "cell_type": "code",
      "source": [
        "# Syntetyczne dane 2-D: dwa klastry na przekątnych\n",
        "N = 4000\n",
        "alpha = 0.1\n",
        "x1 = np.concatenate([np.random.randn(N//2)*alpha - 1,\n",
        "                     np.random.randn(N//2)*alpha + 1])\n",
        "x2 = np.concatenate([np.random.randn(N//2)*alpha + 1,\n",
        "                     np.random.randn(N//2)*alpha - 1])\n",
        "X  = np.column_stack([x1, x2])\n"
      ],
      "metadata": {
        "id": "49uaJXcoH1yB"
      },
      "execution_count": 508,
      "outputs": []
    },
    {
      "cell_type": "code",
      "source": [
        "# #syntetyczne dane drugi case klasyczne two moons\n",
        "# from sklearn.datasets import make_moons\n",
        "\n",
        "# N = 4000\n",
        "# X, _ = make_moons(n_samples=N, noise=0.01, random_state=0)\n",
        "# x1, x2 = X[:, 0], X[:, 1]\n",
        "\n",
        "# X  = np.column_stack([x1, x2])"
      ],
      "metadata": {
        "id": "XDpKGv24R09C"
      },
      "execution_count": 509,
      "outputs": []
    },
    {
      "cell_type": "code",
      "source": [
        "u1, u2 = quantile_norm(X[:,0]), quantile_norm(X[:,1])\n",
        "F1, F2 = legendre(u1, deg), legendre(u2, deg)    # (N,3)\n",
        "a       = (F1.T @ F2) / N                        # (3,3) tensor\n",
        "f  = legendre(np.array([u2]), deg)[0]\n",
        "print(\"F1:\", F1.shape, \"F2:\", F2.shape, \"a:\", a.shape)"
      ],
      "metadata": {
        "colab": {
          "base_uri": "https://localhost:8080/"
        },
        "id": "uVjXylwHH3yP",
        "outputId": "abebd0b2-d727-40b5-a2b4-f6f4ba9e4687"
      },
      "execution_count": 510,
      "outputs": [
        {
          "output_type": "stream",
          "name": "stdout",
          "text": [
            "F1: (4000, 6) F2: (4000, 6) a: (6, 6)\n"
          ]
        }
      ]
    },
    {
      "cell_type": "code",
      "source": [
        "def E_u1_given_u2(u2_scalar):\n",
        "    f = legendre(np.array([u2_scalar]), deg)[0]\n",
        "    num   = sum(a[1,j]*f[j] for j in range(deg+1))\n",
        "    denom = sum(a[0,j]*f[j] for j in range(deg+1))\n",
        "    return num/denom if denom > 1e-8 else np.nan\n",
        "\n",
        "grid_u2  = np.linspace(0.05, 0.95, 100)\n",
        "pred_u1  = np.array([E_u1_given_u2(v) for v in grid_u2])\n",
        "\n",
        "print(\"f(u2=0.5) =\", legendre(np.array([0.5]), deg)[0])\n",
        "print(\"E_u1|u2=0.5 =\", E_u1_given_u2(0.5))\n"
      ],
      "metadata": {
        "colab": {
          "base_uri": "https://localhost:8080/"
        },
        "id": "1l9KWOSEH6Dw",
        "outputId": "3c0c6782-51cc-48f8-f933-549b8019cd22"
      },
      "execution_count": 511,
      "outputs": [
        {
          "output_type": "stream",
          "name": "stdout",
          "text": [
            "f(u2=0.5) = [ 1.          0.         -1.11803399  0.          1.125       0.        ]\n",
            "E_u1|u2=0.5 = -0.00011314715883016136\n"
          ]
        }
      ]
    },
    {
      "cell_type": "code",
      "source": [
        "#helper: gęstość ρ(u1,u2) z clampem dodatniości ──\n",
        "def density(u1_scalar, u2_scalar, eps=0.1):\n",
        "    f1 = legendre(np.array([u1_scalar]), deg)[0]\n",
        "    f2 = legendre(np.array([u2_scalar]), deg)[0]\n",
        "    rho = (a * np.outer(f1, f2)).sum()\n",
        "    return max(rho, eps)\n"
      ],
      "metadata": {
        "id": "jOb-vUFhKCmb"
      },
      "execution_count": 512,
      "outputs": []
    },
    {
      "cell_type": "code",
      "source": [
        "#funkcja: przybliżona odwrotna CDF -> wracamy do \"surowych\" jednostek\n",
        "def inv_cdf(u_val, raw):\n",
        "    raw_sorted = np.sort(raw)\n",
        "    idx        = np.clip((u_val*len(raw)).astype(int), 0, len(raw)-1)\n",
        "    return raw_sorted[idx]\n",
        "\n",
        "pred_raw = np.array([inv_cdf(p, X[:,0]) for p in pred_u1])\n",
        "grid_raw = np.array([inv_cdf(g, X[:,1]) for g in grid_u2])\n",
        "\n",
        "# Empiryczne średnie dla porównania\n",
        "bins        = np.digitize(X[:,1], grid_raw)\n",
        "true_means  = np.array([X[:,0][bins==i].mean() if (bins==i).sum()>0 else np.nan\n",
        "                        for i in range(len(grid_raw))])\n"
      ],
      "metadata": {
        "id": "Ls_Fu5vQH84j"
      },
      "execution_count": 513,
      "outputs": []
    },
    {
      "cell_type": "code",
      "source": [
        "plt.figure(figsize=(8,5))\n",
        "plt.scatter(grid_raw, true_means, s=15, alpha=0.6, label='empiryczne')\n",
        "plt.plot(grid_raw, pred_raw, color='red', lw=2, label='HCR predykcja')\n",
        "plt.xlabel('x₂'); plt.ylabel('E[x₁ | x₂]')\n",
        "plt.legend(); plt.tight_layout()\n",
        "plt.show()\n",
        "\n",
        "mse = np.nanmean((pred_raw - true_means)**2)\n",
        "print(\"MSE warunkowych średnich ≈\", round(float(mse), 4))\n"
      ],
      "metadata": {
        "colab": {
          "base_uri": "https://localhost:8080/",
          "height": 523
        },
        "id": "G6Y946T0H_FE",
        "outputId": "ae04bfb3-75dc-4ef5-e100-25080e95a00a"
      },
      "execution_count": 514,
      "outputs": [
        {
          "output_type": "display_data",
          "data": {
            "text/plain": [
              "<Figure size 800x500 with 1 Axes>"
            ],
            "image/png": "[encoded data removed]"
          },
          "metadata": {}
        },
        {
          "output_type": "stream",
          "name": "stdout",
          "text": [
            "MSE warunkowych średnich ≈ 0.4003\n"
          ]
        }
      ]
    },
    {
      "cell_type": "code",
      "source": [],
      "metadata": {
        "id": "h_30F1vmTDyX"
      },
      "execution_count": 514,
      "outputs": []
    }
  ]
}