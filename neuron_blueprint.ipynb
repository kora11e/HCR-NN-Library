{
 "cells": [
  {
   "cell_type": "markdown",
   "id": "68b66aa2",
   "metadata": {},
   "source": [
    "<h2>Implementacja modelu BCRNN do postaci Neurona</h2>"
   ]
  },
  {
   "cell_type": "markdown",
   "id": "e96a026e",
   "metadata": {},
   "source": [
    "Artykuł naukowy:\n",
    "Instniejace, podobne rozwiązania:"
   ]
  },
  {
   "cell_type": "code",
   "execution_count": null,
   "id": "62247169",
   "metadata": {},
   "outputs": [],
   "source": [
    "import numpy, math, os\n",
    "import torch.nn as nn\n",
    "from torch import Tensor"
   ]
  },
  {
   "cell_type": "code",
   "execution_count": null,
   "id": "334bf9ff",
   "metadata": {},
   "outputs": [],
   "source": [
    "__all__ = [\n",
    "    'HCR'\n",
    "]"
   ]
  },
  {
   "cell_type": "code",
   "execution_count": null,
   "id": "d1705e5e",
   "metadata": {},
   "outputs": [],
   "source": [
    "from torch.nn import LSTM, Module\n",
    "\n",
    "'''\n",
    "Klasa rozszerzająca funkcje torch'a.\n",
    "'''\n",
    "\n",
    "class HCRNN_Neuron(nn.Module):\n",
    "\n",
    "    '''\n",
    "    definicja stałych określająca rozmiar wejścia i wyjścia dla liczb neuronów.\n",
    "    '''\n",
    "\n",
    "    __constants__ = ['in_features', 'out_features']\n",
    "    in_features: int\n",
    "    out_features: int\n",
    "\n",
    "    def __init__(\n",
    "        self,\n",
    "        in_features: int,\n",
    "        out_features: int,\n",
    "        \n",
    "        #definicja urządzenia, CPU, GPU lub TPU\n",
    "        device = None,\n",
    "        dtype= None,\n",
    "\n",
    "        hierarchy_levels:int=1\n",
    "\n",
    "    ) -> None:\n",
    "        factory_kwargs = {\"device\": device, \"dtype\": dtype}\n",
    "        super().__init__()\n",
    "        self.in_features = in_features\n",
    "        self.out_features = out_features\n",
    "        self.hierarchy_levels = hierarchy_levels\n",
    "        self.hidden_size = out_features\n",
    "        \n",
    "        self.level1_rnn = nn.LSTM(in_features, out_features, batch_first=True)\n",
    "        \n",
    "        self.level2_rnn = nn.LSTM(out_features, out_features, batch_first=True)\n",
    "                \n",
    "        # Rekonstrukcja końcowego outputu\n",
    "        self.reconstruct = nn.Linear(out_features, in_features)\n",
    "\n",
    "    #Tensor wchodzi i zawsze Tensor wychodzi\n",
    "    def forward(self, input:Tensor) -> Tensor:\n",
    "        out1, _ = self.level1_rnn(x)\n",
    "        out2, _ = self.level2_rnn(out1)\n",
    "        \n",
    "        reconstruction = self.reconstruct(out2)\n",
    "        return reconstruction"
   ]
  },
  {
   "cell_type": "code",
   "execution_count": 2,
   "id": "ef073368",
   "metadata": {},
   "outputs": [],
   "source": [
    "import torch.nn as nn"
   ]
  },
  {
   "cell_type": "code",
   "execution_count": null,
   "id": "dee99ede",
   "metadata": {},
   "outputs": [],
   "source": [
    "nn.Linear(10, 20)\n",
    "HCRNN_Neuron(10, 20)"
   ]
  }
 ],
 "metadata": {
  "kernelspec": {
   "display_name": "Python 3",
   "language": "python",
   "name": "python3"
  },
  "language_info": {
   "codemirror_mode": {
    "name": "ipython",
    "version": 3
   },
   "file_extension": ".py",
   "mimetype": "text/x-python",
   "name": "python",
   "nbconvert_exporter": "python",
   "pygments_lexer": "ipython3",
   "version": "3.11.9"
  }
 },
 "nbformat": 4,
 "nbformat_minor": 5
}
