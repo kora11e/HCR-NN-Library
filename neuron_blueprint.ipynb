{
 "cells": [
  {
   "cell_type": "markdown",
   "id": "68b66aa2",
   "metadata": {},
   "source": [
    "<h2>Implementacja modelu BCRNN do postaci Neurona</h2>"
   ]
  },
  {
   "cell_type": "markdown",
   "id": "e96a026e",
   "metadata": {},
   "source": [
    "Artykuł naukowy:\n",
    "Instniejace, podobne rozwiązania:"
   ]
  },
  {
   "cell_type": "code",
   "execution_count": null,
   "id": "62247169",
   "metadata": {
    "vscode": {
     "languageId": "plaintext"
    }
   },
   "outputs": [],
   "source": [
    "import numpy, math, os\n",
    "import torch.nn as nn\n",
    "from torch import Tensor"
   ]
  },
  {
   "cell_type": "code",
   "execution_count": null,
   "id": "334bf9ff",
   "metadata": {
    "vscode": {
     "languageId": "plaintext"
    }
   },
   "outputs": [],
   "source": [
    "__all__ = [\n",
    "    'HCR'\n",
    "]"
   ]
  },
  {
   "cell_type": "code",
   "execution_count": null,
   "id": "d1705e5e",
   "metadata": {
    "vscode": {
     "languageId": "plaintext"
    }
   },
   "outputs": [],
   "source": [
    "'''\n",
    "Klasa rozszerzająca funkcje torch'a.\n",
    "'''\n",
    "\n",
    "class Neuron(nn.Module):\n",
    "\n",
    "    '''\n",
    "    definicja stałych określająca rozmiar wejścia i wyjścia dla liczb neuronów.\n",
    "    '''\n",
    "\n",
    "    __constants__ = ['in_features', 'out_features']\n",
    "    in_features: int\n",
    "    out_features: int\n",
    "\n",
    "    def __init__(\n",
    "        self,\n",
    "        in_features: int,\n",
    "        out_features: int,\n",
    "        #definicja urządzenia, CPU, GPU lub TPU\n",
    "        device = None,\n",
    "        dtype= None\n",
    "    ) -> None:\n",
    "        factory_kwargs = {\"device\": device, \"dtype\": dtype}\n",
    "        super().__init__()\n",
    "        self.in_features = in_features\n",
    "        self.out_features = out_features\n",
    "\n",
    "    #Tenor wchodzi i zawsze Tensor wychodzi\n",
    "    def forward(self, input:Tensor) -> Tensor:\n",
    "    "
   ]
  }
 ],
 "metadata": {
  "language_info": {
   "name": "python"
  }
 },
 "nbformat": 4,
 "nbformat_minor": 5
}
